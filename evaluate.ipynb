{
 "cells": [
  {
   "cell_type": "code",
   "execution_count": 80,
   "metadata": {},
   "outputs": [],
   "source": [
    "def generate_OneBugCorpus(FilePath, WordList):\n",
    "    \n",
    "    for i in range(len(WordList)):\n",
    "        WordList[i][2] = 0\n",
    "    \n",
    "    with open(FilePath) as TextFile:\n",
    "        BugFile = TextFile.read().split(' ')    \n",
    "\n",
    "\n",
    "    BugCorpus = [] # this file delete word that is not in the word list; \n",
    "\n",
    "    for i in range(len(BugFile)):\n",
    "        flag = False\n",
    "        for j in range(len(WordList)):\n",
    "            if BugFile[i] == WordList[j][0]:\n",
    "                flag = True\n",
    "\n",
    "                if WordList[j][2] == 0:\n",
    "                    BugCorpus.append(BugFile[i])\n",
    "\n",
    "                WordList[j][2] = WordList[j][2] + 1\n",
    "                break        \n",
    "       \n",
    "    \n",
    "    \n",
    "    return BugCorpus"
   ]
  },
  {
   "cell_type": "code",
   "execution_count": 81,
   "metadata": {},
   "outputs": [
    {
     "name": "stdout",
     "output_type": "stream",
     "text": [
      "98\n"
     ]
    }
   ],
   "source": [
    "# this process intends to save all file names in an array; \n",
    "\n",
    "import os\n",
    "\n",
    "path = 'C:\\\\Users\\\\take_\\\\OneDrive\\\\liming\\\\where\\\\BugLocator\\\\tmp\\\\BugCorpus\\\\'\n",
    "\n",
    "BugFiles = []\n",
    "# r=root, d=directories, f = bug files\n",
    "for r, d, f in os.walk(path):\n",
    "    for file in f:\n",
    "        if '.txt' in file:\n",
    "            BugFiles.append(os.path.join(r, file))\n",
    "\n",
    "print(len(BugFiles))"
   ]
  },
  {
   "cell_type": "code",
   "execution_count": null,
   "metadata": {},
   "outputs": [],
   "source": [
    "\n",
    "## ----------------------------------- read word list from Wordlist.txt --------------------------------------------\n",
    "with open(\"WordList.txt\") as TextFile:\n",
    "    WordList = [line.split() for line in TextFile]\n",
    "    \n",
    "for i in range(len(WordList)):\n",
    "    WordList[i].append(0) # this is the 3rd column, indicating frequency of this word in this document;\n",
    "    WordList[i].append(0) # this is the 4th column, indicating the id of this word; \n",
    "    \n",
    "## ----------------------------------- read bug file 100040.txt ------------------------------------------------    \n",
    "#ThisBugCorpus = generate_OneBugCorpus(BugFiles[0], WordList)\n",
    "#print(len(ThisBugCorpus))\n",
    "#print(ThisBugCorpus)\n",
    "\n",
    "BugCorpuses = []\n",
    "for i in range(len(BugFiles)):\n",
    "    ThisBugCorpus = generate_OneBugCorpus(BugFiles[i], WordList)\n",
    "    ThisBugCorpus.insert(0, BugFiles[i])\n",
    "    BugCorpuses.append(ThisBugCorpus)\n",
    "    \n",
    "for i in range(5):\n",
    "    print(BugCorpuses[i])"
   ]
  },
  {
   "cell_type": "code",
   "execution_count": 73,
   "metadata": {},
   "outputs": [
    {
     "name": "stdout",
     "output_type": "stream",
     "text": [
      "483\n"
     ]
    }
   ],
   "source": [
    "\n",
    "with open(\"CodeCorpus.txt\") as TextFile:\n",
    "    CodeList = TextFile.read().split()   \n",
    "\n",
    "#print(len(CodeList))\n",
    "CodeFiles = []\n",
    "ThisCodeFile = []\n",
    "\n",
    "for i in range(len(CodeList)):\n",
    "    if CodeList[i][-5:] == \".java\":        \n",
    "        CodeFiles.append(ThisCodeFile)\n",
    "        ThisCodeFile = []\n",
    "        ThisCodeFile.append(CodeList[i])\n",
    "    else:\n",
    "        ThisCodeFile.append(CodeList[i])\n",
    "\n",
    "CodeFiles.pop(0) # delete the first element;         \n",
    "\n",
    "print(len(CodeFiles))"
   ]
  },
  {
   "cell_type": "code",
   "execution_count": 74,
   "metadata": {},
   "outputs": [
    {
     "name": "stdout",
     "output_type": "stream",
     "text": [
      "ftd: 1\n",
      "#docs: 98\n",
      "nt: 13\n",
      "2.020018121209035\n"
     ]
    }
   ],
   "source": [
    "import math\n",
    "\n",
    "with open(BugFiles[0]) as TextFile:\n",
    "    BugFile = TextFile.read().split(' ')    \n",
    "    \n",
    "#print(BugFile)\n",
    "\n",
    "ThisWord = \"build\"\n",
    "# count ftd;\n",
    "ftd = 0\n",
    "for i in range(len(BugFile)):\n",
    "    if BugFile[i] == ThisWord:\n",
    "        ftd = ftd + 1\n",
    "        \n",
    "print(\"ftd:\", ftd)\n",
    "#print(BugFile)\n",
    "NumDocs = len(BugFiles);\n",
    "print(\"#docs:\", NumDocs)\n",
    "\n",
    "# count nt;\n",
    "nt = 0\n",
    "for i in range(NumDocs):\n",
    "    with open(BugFiles[i]) as TextFile:\n",
    "        ThisBugFile = TextFile.read().split(' ') \n",
    "    \n",
    "    flag = False    \n",
    "    \n",
    "    for j in range(len(ThisBugFile)):\n",
    "        if ThisWord==ThisBugFile[j]:\n",
    "            flag = True\n",
    "            break\n",
    "    \n",
    "    if flag == True:\n",
    "        nt = nt + 1\n",
    "    \n",
    "print(\"nt:\", nt)\n",
    "\n",
    "w = (math.log(ftd)+1) * math.log(NumDocs/nt)\n",
    "print(w)"
   ]
  },
  {
   "cell_type": "code",
   "execution_count": null,
   "metadata": {},
   "outputs": [],
   "source": []
  },
  {
   "cell_type": "code",
   "execution_count": null,
   "metadata": {},
   "outputs": [],
   "source": []
  },
  {
   "cell_type": "code",
   "execution_count": null,
   "metadata": {},
   "outputs": [],
   "source": []
  },
  {
   "cell_type": "code",
   "execution_count": null,
   "metadata": {},
   "outputs": [],
   "source": []
  },
  {
   "cell_type": "code",
   "execution_count": null,
   "metadata": {},
   "outputs": [],
   "source": []
  },
  {
   "cell_type": "code",
   "execution_count": null,
   "metadata": {},
   "outputs": [],
   "source": []
  },
  {
   "cell_type": "code",
   "execution_count": null,
   "metadata": {},
   "outputs": [],
   "source": []
  },
  {
   "cell_type": "code",
   "execution_count": null,
   "metadata": {},
   "outputs": [],
   "source": []
  },
  {
   "cell_type": "code",
   "execution_count": null,
   "metadata": {},
   "outputs": [],
   "source": []
  },
  {
   "cell_type": "code",
   "execution_count": null,
   "metadata": {},
   "outputs": [],
   "source": []
  },
  {
   "cell_type": "code",
   "execution_count": null,
   "metadata": {},
   "outputs": [],
   "source": []
  },
  {
   "cell_type": "code",
   "execution_count": null,
   "metadata": {},
   "outputs": [],
   "source": []
  },
  {
   "cell_type": "code",
   "execution_count": 75,
   "metadata": {},
   "outputs": [
    {
     "name": "stdout",
     "output_type": "stream",
     "text": [
      "BugCorpus C:\\Users\\take_\\OneDrive\\liming\\where\\BugLocator\\tmp\\BugCorpus\\100387.txt:\n",
      "10\n",
      "['ctabfold', 'creat', 'mousehov', 'showtooltip', 'tooltip', 'show', 'view', 'eclips', 'hover', 'event']\n"
     ]
    }
   ],
   "source": [
    "WordList = []\n",
    "\n",
    "with open(\"BugTermList.txt\") as TextFile:\n",
    "    TempList = TextFile.read().split('\\n') \n",
    "    \n",
    "for i in range(len(TempList)):\n",
    "    ThisRow = []\n",
    "    ThisRow.append(TempList[i])\n",
    "    ThisRow.append(0) # this is the 2nd columnn, which is left blank;\n",
    "    ThisRow.append(0) # this is the 3rd column, indicating frequency of this word in this document;\n",
    "    WordList.append(ThisRow)\n",
    "    \n",
    "    \n",
    "WordList = generate_OneBugCorpus(BugFiles[2], WordList)\n",
    "    \n",
    "\n",
    "#print(WordList)\n",
    "#print(TempList)"
   ]
  },
  {
   "cell_type": "code",
   "execution_count": null,
   "metadata": {},
   "outputs": [],
   "source": []
  }
 ],
 "metadata": {
  "kernelspec": {
   "display_name": "Python 3",
   "language": "python",
   "name": "python3"
  },
  "language_info": {
   "codemirror_mode": {
    "name": "ipython",
    "version": 3
   },
   "file_extension": ".py",
   "mimetype": "text/x-python",
   "name": "python",
   "nbconvert_exporter": "python",
   "pygments_lexer": "ipython3",
   "version": "3.7.3"
  }
 },
 "nbformat": 4,
 "nbformat_minor": 2
}
