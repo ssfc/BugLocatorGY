{
 "cells": [
  {
   "cell_type": "code",
   "execution_count": 444,
   "metadata": {},
   "outputs": [],
   "source": [
    "# class Word defines a word in dictionary; \n",
    "class Word(object):\n",
    "    def __init__(self, WordName=None, WordIndex=None, WordFrequency=None):\n",
    "        self.WordName = WordName\n",
    "        self.WordIndex = WordIndex\n",
    "        self.WordFrequency = WordFrequency\n",
    "\n",
    "\n",
    "# class Element defines a word in a bug corpus or in a code corpus; \n",
    "class Element(object):\n",
    "    def __init__(self, ElementName=None, ElementIndex=None, ElementFrequency=None, ElementWeight=None):\n",
    "        self.ElementName = ElementName\n",
    "        self.ElementIndex = ElementIndex\n",
    "        self.ElementFrequency = ElementFrequency\n",
    "        self.ElementWeight = ElementWeight\n",
    "\n",
    "\n",
    "# class Corpus defines a bug corpus or a code corpus; \n",
    "class Corpus(object):\n",
    "    def __init__(self, FileName=None):\n",
    "        self.FileName = FileName\n",
    "        self.CorpusMembers = []"
   ]
  },
  {
   "cell_type": "code",
   "execution_count": 445,
   "metadata": {},
   "outputs": [],
   "source": [
    "def generate_OneBugCorpus(FilePath, WordList):\n",
    "    \n",
    "    for i in range(len(WordList)):\n",
    "        WordList[i].WordFrequency = 0\n",
    "    \n",
    "    with open(FilePath) as TextFile:\n",
    "        ThisBugFile = TextFile.read().split(' ')    \n",
    "\n",
    "\n",
    "    ThisBugCorpus = Corpus(FilePath) # this file delete word that is not in the word list; \n",
    "\n",
    "    for i in range(len(ThisBugFile)):\n",
    "        flag = False\n",
    "        for j in range(len(WordList)):\n",
    "            if ThisBugFile[i] == WordList[j].WordName:\n",
    "                flag = True\n",
    "                WordList[j].WordFrequency = WordList[j].WordFrequency + 1\n",
    "                break        \n",
    "               \n",
    "\n",
    "    for i in range(len(WordList)):\n",
    "        if WordList[i].WordFrequency > 0:\n",
    "            ThisBugCorpus.CorpusMembers.append(Element(WordList[i].WordName, 0, WordList[i].WordFrequency, 0))            \n",
    "        \n",
    "    return ThisBugCorpus"
   ]
  },
  {
   "cell_type": "code",
   "execution_count": 446,
   "metadata": {},
   "outputs": [],
   "source": [
    "def generate_OneCodeCorpus(ThisCodeFile, WordList):\n",
    "    \n",
    "    for i in range(len(WordList)):\n",
    "        WordList[i].WordFrequency = 0\n",
    "    \n",
    "    ThisCodeCorpus = Corpus(ThisCodeFile[0])\n",
    "    \n",
    "    for i in range(len(ThisCodeFile)):\n",
    "        flag = False\n",
    "        for j in range(len(WordList)):\n",
    "            if ThisCodeFile[i] == WordList[j].WordName:\n",
    "                flag = True                    \n",
    "                WordList[j].WordFrequency = WordList[j].WordFrequency + 1\n",
    "                break\n",
    "    \n",
    "    for i in range(len(WordList)):\n",
    "        if WordList[i].WordFrequency > 0:\n",
    "            ThisCodeCorpus.CorpusMembers.append(Element(WordList[i].WordName, 0, WordList[i].WordFrequency, 0))     \n",
    "    \n",
    "    return ThisCodeCorpus"
   ]
  },
  {
   "cell_type": "code",
   "execution_count": 454,
   "metadata": {},
   "outputs": [],
   "source": [
    "def compute_BugCorpus_weight(CorpusNumber, MemberNumber):\n",
    "    \n",
    "    ThisWord = BugCorpuses[CorpusNumber].CorpusMembers[MemberNumber].ElementName\n",
    "    # count ftd, the frequency of term t in document d;\n",
    "    ftd = BugCorpuses[CorpusNumber].CorpusMembers[MemberNumber].ElementFrequency\n",
    "#    print(\"ftd:\", ftd)\n",
    "\n",
    "    # #docs, total number of documents; \n",
    "    NumDocs = len(BugFiles) + len(CodeCorpuses);\n",
    "#    print(\"#docs:\", NumDocs)\n",
    "\n",
    "    # count nt, the number of docuement that contains t;\n",
    "    # count ntBug, the number of document that contains t in bug files; \n",
    "    ntBug = 0 \n",
    "    for i in range(len(BugCorpuses)):    \n",
    "        flag = False        \n",
    "        for j in range(len(BugCorpuses[i].CorpusMembers)):\n",
    "            if ThisWord == BugCorpuses[i].CorpusMembers[j].ElementName:\n",
    "                flag = True\n",
    "                break\n",
    "\n",
    "        if flag == True:\n",
    "            ntBug = ntBug + 1\n",
    "\n",
    "#    print(\"ntBug:\", ntBug)\n",
    "\n",
    "    # count ntCode, the number of document that contains t in code files; \n",
    "    ntCode = 0\n",
    "    for i in range(len(CodeCorpuses)):\n",
    "        flag = False\n",
    "        for j in range(len(CodeCorpuses[i].CorpusMembers)):\n",
    "            if ThisWord == CodeCorpuses[i].CorpusMembers[j].ElementName:\n",
    "                flag = True\n",
    "                break\n",
    "\n",
    "        if flag == True:\n",
    "                ntCode = ntCode + 1\n",
    "\n",
    "#    print(\"ntCode:\", ntCode)\n",
    "\n",
    "    nt = ntBug + ntCode\n",
    "#    print(\"nt:\", nt)\n",
    "\n",
    "    weight = (math.log(ftd)+1) * math.log(NumDocs/nt)\n",
    "#    print(weight)\n",
    "    \n",
    "    return weight"
   ]
  },
  {
   "cell_type": "code",
   "execution_count": null,
   "metadata": {},
   "outputs": [],
   "source": []
  },
  {
   "cell_type": "code",
   "execution_count": 448,
   "metadata": {},
   "outputs": [
    {
     "name": "stdout",
     "output_type": "stream",
     "text": [
      "98\n"
     ]
    }
   ],
   "source": [
    "# this process intends to save all file names in an array; \n",
    "\n",
    "import os\n",
    "\n",
    "path = 'C:\\\\Users\\\\take_\\\\OneDrive\\\\liming\\\\where\\\\BugLocator\\\\tmp\\\\BugCorpus\\\\'\n",
    "\n",
    "BugFiles = []\n",
    "# r=root, d=directories, f = bug files\n",
    "for r, d, f in os.walk(path):\n",
    "    for file in f:\n",
    "        if '.txt' in file:\n",
    "            BugFiles.append(os.path.join(r, file))\n",
    "\n",
    "print(len(BugFiles))"
   ]
  },
  {
   "cell_type": "code",
   "execution_count": 449,
   "metadata": {},
   "outputs": [
    {
     "name": "stdout",
     "output_type": "stream",
     "text": [
      "C:\\Users\\take_\\OneDrive\\liming\\where\\BugLocator\\tmp\\BugCorpus\\100040.txt\n",
      "averag,2,time,1,mirror,1,icon,2,includ,1,ilc,1,menu,1,perspect,3,test,1,numer,1,swt,2,ui,3,os,1,ms,6,number,1,window,1,increas,1,show,1,toolbar,1,run,1,perform,1,eclips,2,imagelist,2,make,1,elaps,6,process,6,singl,1,due,1,debug,4,build,1,\n",
      "org.eclipse.swt.accessibility.ACC.java\n",
      "client,1,access,1,scrollbar,1,radiobutton,1,listitem,1,acc,3,delet,1,deprec,1,multipl,1,tablecel,1,state,17,press,1,tabitem,1,insert,1,tablerowhead,1,focus,2,contain,1,combobox,1,dialog,1,tooltip,1,pushbutton,1,select,2,label,1,expand,1,separ,1,sizeabl,1,constant,1,hottrack,1,offscreen,1,treeitem,1,childid,3,multiselect,1,progressbar,1,menu,1,text,3,slider,1,readonli,1,tablecolumnhead,3,tree,1,menubar,1,checkbutton,1,check,1,defin,1,list,1,role,32,area,1,link,2,tablecolumn,1,sinc,1,xd,1,xc,1,xb,1,xa,1,us,2,invis,1,window,1,toolbar,1,object,1,tabfold,1,tabl,1,menuitem,1,busi,1,collaps,1,\n"
     ]
    }
   ],
   "source": [
    "\n",
    "## ----------------------------------- read word list from Wordlist.txt --------------------------------------------\n",
    "with open(\"WordList.txt\") as TextFile:\n",
    "    WordlistContent = [line.split() for line in TextFile]\n",
    "\n",
    "WordList = []\n",
    "    \n",
    "for i in range(len(WordlistContent)):    \n",
    "    WordList.append(Word(WordlistContent[i][0], WordlistContent[i][1], 0))\n",
    "    \n",
    "# test whether WordList is correct or not;     \n",
    "#print(WordList[0].WordName)\n",
    "#print(WordList[1].WordName)\n",
    "    \n",
    "    \n",
    "## ----------------------------------- read all bug files ------------------------------------------------    \n",
    "#ThisBugCorpus = generate_OneBugCorpus(BugFiles[0], WordList)\n",
    "#print(ThisBugCorpus.FileName)\n",
    "#print(ThisBugCorpus.CorpusMembers)\n",
    "\n",
    "BugCorpuses = []\n",
    "for i in range(len(BugFiles)):\n",
    "    ThisBugCorpus = generate_OneBugCorpus(BugFiles[i], WordList)\n",
    "    BugCorpuses.append(ThisBugCorpus)\n",
    "\n",
    "# test result of all bug corpuses;     \n",
    "# print(BugCorpuses[0])\n",
    "for i in range(1):\n",
    "    print(BugCorpuses[i].FileName)\n",
    "    for j in range(len(BugCorpuses[i].CorpusMembers)):\n",
    "        print(BugCorpuses[i].CorpusMembers[j].ElementName, end = ',')\n",
    "        print(BugCorpuses[i].CorpusMembers[j].ElementFrequency, end = ',')\n",
    "    print()\n",
    "\n",
    "## ----------------------------------- read all code files ------------------------------------------------\n",
    "with open(\"CodeCorpus.txt\") as TextFile:\n",
    "    CodeList = TextFile.read().split()   \n",
    "\n",
    "#print(len(CodeList))\n",
    "CodeFiles = []\n",
    "ThisCodeFile = []\n",
    "\n",
    "for i in range(len(CodeList)):\n",
    "    if CodeList[i][-5:] == \".java\":        \n",
    "        CodeFiles.append(ThisCodeFile)\n",
    "        ThisCodeFile = []\n",
    "        ThisCodeFile.append(CodeList[i])\n",
    "    else:\n",
    "        ThisCodeFile.append(CodeList[i])\n",
    "\n",
    "CodeFiles.pop(0) # delete the first element;         \n",
    "\n",
    "#print(len(CodeFiles))\n",
    "#print(CodeFiles[0])\n",
    "\n",
    "#ThisCodeCorpus = generate_OneCodeCorpus(CodeFiles[0], WordList)\n",
    "#print(ThisCodeCorpus)\n",
    "\n",
    "CodeCorpuses = []\n",
    "for i in range(len(CodeFiles)):\n",
    "    ThisCodeCorpus = generate_OneCodeCorpus(CodeFiles[i], WordList)\n",
    "    CodeCorpuses.append(ThisCodeCorpus)\n",
    "\n",
    "# test all code corpuses generated; \n",
    "print(CodeCorpuses[0].FileName)\n",
    "#print(CodeCorpuses[0].CorpusMembers)\n",
    "for i in range(len(CodeCorpuses[0].CorpusMembers)):\n",
    "    print(CodeCorpuses[0].CorpusMembers[i].ElementName, end = ',')\n",
    "    print(CodeCorpuses[0].CorpusMembers[i].ElementFrequency, end = ',')\n",
    "print()"
   ]
  },
  {
   "cell_type": "code",
   "execution_count": 464,
   "metadata": {},
   "outputs": [
    {
     "name": "stdout",
     "output_type": "stream",
     "text": [
      "C:\\Users\\take_\\OneDrive\\liming\\where\\BugLocator\\tmp\\BugCorpus\\100040.txt\n",
      "[averag,8.051444535206512],[time,2.3944588432997893],[mirror,3.3690184832979204],[icon,5.075132358277732],[includ,2.963553375189756],[ilc,4.755312844417811],[menu,2.472930458741285],[perspect,9.979557971756522],[test,3.0325462466767075],[numer,3.879844107063911],[swt,4.369269789557716],[ui,6.601971790873969],[os,1.5525664014794938],[ms,14.701791934818253],[number,1.9827241221780296],[window,1.7300217686222754],[increas,3.656700555749701],[show,1.9827241221780296],[toolbar,3.9668554840535406],[run,2.4135070382704837],[perform,3.106654218830429],[eclips,3.960946933000165],[imagelist,8.051444535206512],[make,2.49354974594402],[elaps,13.898652784923842],[process,6.847425925475732],[singl,2.627081138568543],[due,4.167526179515692],[debug,11.347576225995212],[build,3.4203117776854706],\n",
      "C:\\Users\\take_\\OneDrive\\liming\\where\\BugLocator\\tmp\\BugCorpus\\100095.txt\n",
      "[transfer,3.3690184832979204],[fulli,3.9668554840535406],[internet,4.978456395732021],[comment,3.9668554840535406],[exist,3.106654218830429],[implement,3.6473765976648083],[urltransf,13.534115632612925],[platform,2.9962455803401724],[browser,3.59216203461213],[read,4.022522707191689],[explor,4.2853092151720755],[url,3.7998013993903745],[trai,4.978456395732021],[os,1.5525664014794938],[support,2.0742913157035203],[window,1.7300217686222754],[function,2.963553375189756],[widget,1.3085049515036031],[fake,5.671603576291966],[make,4.2219467219310856],[activ,2.753832844207687],[dnd,6.687641330222119],[system,1.4594759784134819],\n"
     ]
    }
   ],
   "source": [
    "import math\n",
    "\n",
    "#compute_BugCorpus_weight(0, 3)\n",
    "\n",
    "for i in range(len(BugCorpuses)):\n",
    "    for j in range(len(BugCorpuses[i].CorpusMembers)):\n",
    "        BugCorpuses[i].CorpusMembers[j].ElementWeight= compute_BugCorpus_weight(i, j)\n",
    "    \n",
    "    \n",
    "# test result of element weight;\n",
    "for i in range(2):\n",
    "    print(BugCorpuses[i].FileName)\n",
    "    for j in range(len(BugCorpuses[i].CorpusMembers)):\n",
    "        print(\"[\", end = '')\n",
    "        print(BugCorpuses[i].CorpusMembers[j].ElementName, end = ',')\n",
    "#        print(BugCorpuses[i].CorpusMembers[j].ElementFrequency, end = ',')\n",
    "        print(BugCorpuses[i].CorpusMembers[j].ElementWeight, end = '')\n",
    "        print(\"]\", end = ',')\n",
    "    print()"
   ]
  },
  {
   "cell_type": "code",
   "execution_count": null,
   "metadata": {},
   "outputs": [],
   "source": []
  },
  {
   "cell_type": "code",
   "execution_count": null,
   "metadata": {},
   "outputs": [],
   "source": []
  },
  {
   "cell_type": "code",
   "execution_count": null,
   "metadata": {},
   "outputs": [],
   "source": []
  },
  {
   "cell_type": "code",
   "execution_count": null,
   "metadata": {},
   "outputs": [],
   "source": []
  },
  {
   "cell_type": "code",
   "execution_count": null,
   "metadata": {},
   "outputs": [],
   "source": []
  },
  {
   "cell_type": "code",
   "execution_count": null,
   "metadata": {},
   "outputs": [],
   "source": []
  },
  {
   "cell_type": "code",
   "execution_count": null,
   "metadata": {},
   "outputs": [],
   "source": []
  },
  {
   "cell_type": "code",
   "execution_count": null,
   "metadata": {},
   "outputs": [],
   "source": []
  },
  {
   "cell_type": "code",
   "execution_count": null,
   "metadata": {},
   "outputs": [],
   "source": []
  },
  {
   "cell_type": "code",
   "execution_count": null,
   "metadata": {},
   "outputs": [],
   "source": []
  },
  {
   "cell_type": "code",
   "execution_count": null,
   "metadata": {},
   "outputs": [],
   "source": []
  },
  {
   "cell_type": "code",
   "execution_count": null,
   "metadata": {},
   "outputs": [],
   "source": []
  },
  {
   "cell_type": "code",
   "execution_count": null,
   "metadata": {},
   "outputs": [],
   "source": []
  },
  {
   "cell_type": "code",
   "execution_count": null,
   "metadata": {},
   "outputs": [],
   "source": []
  },
  {
   "cell_type": "code",
   "execution_count": null,
   "metadata": {},
   "outputs": [],
   "source": []
  }
 ],
 "metadata": {
  "kernelspec": {
   "display_name": "Python 3",
   "language": "python",
   "name": "python3"
  },
  "language_info": {
   "codemirror_mode": {
    "name": "ipython",
    "version": 3
   },
   "file_extension": ".py",
   "mimetype": "text/x-python",
   "name": "python",
   "nbconvert_exporter": "python",
   "pygments_lexer": "ipython3",
   "version": "3.7.3"
  }
 },
 "nbformat": 4,
 "nbformat_minor": 2
}
