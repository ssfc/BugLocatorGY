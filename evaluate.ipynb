{
 "cells": [
  {
   "cell_type": "code",
   "execution_count": 347,
   "metadata": {},
   "outputs": [],
   "source": [
    "# class Word defines a word in dictionary; \n",
    "class Word(object):\n",
    "    def __init__(self, WordName=None, WordIndex=None, WordFrequency=None):\n",
    "        self.WordName = WordName\n",
    "        self.WordIndex = WordIndex\n",
    "        self.WordFrequency = WordFrequency\n",
    "\n",
    "\n",
    "# class Element defines a word in a bug corpus or in a code corpus; \n",
    "class Element(object):\n",
    "    def __init__(self, ElementName=None, ElementIndex=None, ElementWeight=None):\n",
    "        self.ElementName = ElementName\n",
    "        self.ElementIndex = ElementIndex\n",
    "        self.ElementWeight = ElementWeight\n",
    "\n",
    "\n",
    "# class Corpus defines a bug corpus or a code corpus; \n",
    "class Corpus(object):\n",
    "    def __init__(self, FileName=None):\n",
    "        self.FileName = FileName\n",
    "        self.CorpusMembers = []"
   ]
  },
  {
   "cell_type": "code",
   "execution_count": 348,
   "metadata": {},
   "outputs": [],
   "source": [
    "def generate_OneBugCorpus(FilePath, WordList):\n",
    "    \n",
    "    for i in range(len(WordList)):\n",
    "        WordList[i].WordFrequency = 0\n",
    "    \n",
    "    with open(FilePath) as TextFile:\n",
    "        BugFile = TextFile.read().split(' ')    \n",
    "\n",
    "\n",
    "    ThisBugCorpus = Corpus(FilePath) # this file delete word that is not in the word list; \n",
    "\n",
    "    for i in range(len(BugFile)):\n",
    "        flag = False\n",
    "        for j in range(len(WordList)):\n",
    "            if BugFile[i] == WordList[j].WordName:\n",
    "                flag = True\n",
    "\n",
    "                if WordList[j].WordFrequency == 0:\n",
    "                    ThisBugCorpus.CorpusMembers.append(Element(BugFile[i], 0, 0))\n",
    "\n",
    "                WordList[j].WordFrequency = WordList[j].WordFrequency + 1\n",
    "                break        \n",
    "       \n",
    "        \n",
    "    return ThisBugCorpus"
   ]
  },
  {
   "cell_type": "code",
   "execution_count": 349,
   "metadata": {},
   "outputs": [],
   "source": [
    "def generate_OneCodeCorpus(ThisCodeFile, WordList):\n",
    "    \n",
    "    for i in range(len(WordList)):\n",
    "        WordList[i].WordFrequency = 0\n",
    "    \n",
    "    ThisCodeCorpus = Corpus(ThisCodeFile[0])\n",
    "    \n",
    "    for i in range(len(ThisCodeFile)):\n",
    "        flag = False\n",
    "        for j in range(len(WordList)):\n",
    "            if ThisCodeFile[i] == WordList[j].WordName:\n",
    "                flag = True\n",
    "                \n",
    "                if WordList[j].WordFrequency == 0:\n",
    "                    ThisCodeCorpus.CorpusMembers.append(Element(ThisCodeFile[i], 0, 0))\n",
    "                    \n",
    "                WordList[j].WordFrequency = WordList[j].WordFrequency + 1\n",
    "                break\n",
    "    \n",
    "    \n",
    "    return ThisCodeCorpus"
   ]
  },
  {
   "cell_type": "code",
   "execution_count": 350,
   "metadata": {},
   "outputs": [
    {
     "name": "stdout",
     "output_type": "stream",
     "text": [
      "98\n"
     ]
    }
   ],
   "source": [
    "# this process intends to save all file names in an array; \n",
    "\n",
    "import os\n",
    "\n",
    "path = 'C:\\\\Users\\\\take_\\\\OneDrive\\\\liming\\\\where\\\\BugLocator\\\\tmp\\\\BugCorpus\\\\'\n",
    "\n",
    "BugFiles = []\n",
    "# r=root, d=directories, f = bug files\n",
    "for r, d, f in os.walk(path):\n",
    "    for file in f:\n",
    "        if '.txt' in file:\n",
    "            BugFiles.append(os.path.join(r, file))\n",
    "\n",
    "print(len(BugFiles))"
   ]
  },
  {
   "cell_type": "code",
   "execution_count": 351,
   "metadata": {},
   "outputs": [
    {
     "name": "stdout",
     "output_type": "stream",
     "text": [
      "C:\\Users\\take_\\OneDrive\\liming\\where\\BugLocator\\tmp\\BugCorpus\\100040.txt\n",
      "due,imagelist,build,ui,perform,test,window,run,swt,number,eclips,debug,elaps,process,ms,averag,increas,includ,time,perspect,show,numer,icon,menu,toolbar,os,ilc,mirror,singl,make,\n",
      "org.eclipse.swt.accessibility.ACC.java\n",
      "acc,contain,constant,us,defin,access,object,sinc,state,select,multiselect,focus,press,check,expand,collaps,hottrack,busi,readonli,invis,offscreen,sizeabl,link,role,client,area,xa,window,menubar,menu,xb,menuitem,xc,separ,tooltip,xd,scrollbar,dialog,label,pushbutton,checkbutton,radiobutton,combobox,text,toolbar,list,listitem,tabl,tablecel,tablecolumnhead,deprec,tablecolumn,tablerowhead,tree,treeitem,tabfold,tabitem,progressbar,slider,childid,multipl,insert,delet,\n"
     ]
    }
   ],
   "source": [
    "\n",
    "## ----------------------------------- read word list from Wordlist.txt --------------------------------------------\n",
    "with open(\"WordList.txt\") as TextFile:\n",
    "    WordlistContent = [line.split() for line in TextFile]\n",
    "\n",
    "WordList = []\n",
    "    \n",
    "for i in range(len(WordlistContent)):    \n",
    "    WordList.append(Word(WordlistContent[i][0], WordlistContent[i][1], 0))\n",
    "    \n",
    "# test whether WordList is correct or not;     \n",
    "#print(WordList[0].WordName)\n",
    "#print(WordList[1].WordName)\n",
    "    \n",
    "    \n",
    "## ----------------------------------- read all bug files ------------------------------------------------    \n",
    "#ThisBugCorpus = generate_OneBugCorpus(BugFiles[0], WordList)\n",
    "#print(ThisBugCorpus.FileName)\n",
    "#print(ThisBugCorpus.CorpusMembers)\n",
    "\n",
    "BugCorpuses = []\n",
    "for i in range(len(BugFiles)):\n",
    "    ThisBugCorpus = generate_OneBugCorpus(BugFiles[i], WordList)\n",
    "    BugCorpuses.append(ThisBugCorpus)\n",
    "\n",
    "# test result of all bug corpuses;     \n",
    "# print(BugCorpuses[0])\n",
    "for i in range(1):\n",
    "    print(BugCorpuses[i].FileName)\n",
    "    for j in range(len(BugCorpuses[i].CorpusMembers)):\n",
    "        print(BugCorpuses[i].CorpusMembers[j].ElementName, end = ',')\n",
    "    print()\n",
    "\n",
    "## ----------------------------------- read all code files ------------------------------------------------\n",
    "with open(\"CodeCorpus.txt\") as TextFile:\n",
    "    CodeList = TextFile.read().split()   \n",
    "\n",
    "#print(len(CodeList))\n",
    "CodeFiles = []\n",
    "ThisCodeFile = []\n",
    "\n",
    "for i in range(len(CodeList)):\n",
    "    if CodeList[i][-5:] == \".java\":        \n",
    "        CodeFiles.append(ThisCodeFile)\n",
    "        ThisCodeFile = []\n",
    "        ThisCodeFile.append(CodeList[i])\n",
    "    else:\n",
    "        ThisCodeFile.append(CodeList[i])\n",
    "\n",
    "CodeFiles.pop(0) # delete the first element;         \n",
    "\n",
    "#print(len(CodeFiles))\n",
    "#print(CodeFiles[0])\n",
    "\n",
    "#ThisCodeCorpus = generate_OneCodeCorpus(CodeFiles[0], WordList)\n",
    "#print(ThisCodeCorpus)\n",
    "\n",
    "CodeCorpuses = []\n",
    "for i in range(len(CodeFiles)):\n",
    "    ThisCodeCorpus = generate_OneCodeCorpus(CodeFiles[i], WordList)\n",
    "    CodeCorpuses.append(ThisCodeCorpus)\n",
    "\n",
    "# test all code corpuses generated; \n",
    "print(CodeCorpuses[0].FileName)\n",
    "#print(CodeCorpuses[0].CorpusMembers)\n",
    "for i in range(len(CodeCorpuses[0].CorpusMembers)):\n",
    "    print(CodeCorpuses[0].CorpusMembers[i].ElementName, end = ',')\n",
    "print()"
   ]
  },
  {
   "cell_type": "code",
   "execution_count": 354,
   "metadata": {},
   "outputs": [
    {
     "name": "stdout",
     "output_type": "stream",
     "text": [
      "ftd: 1\n",
      "#docs: 581\n",
      "nt: 19\n",
      "3.4203117776854706\n"
     ]
    }
   ],
   "source": [
    "import math\n",
    "\n",
    "with open(BugFiles[0]) as TextFile:\n",
    "    BugFile = TextFile.read().split(' ')    \n",
    "    \n",
    "#print(BugFile)\n",
    "\n",
    "ThisWord = \"build\"\n",
    "# count ftd, the frequency of term t in document d;\n",
    "ftd = 0\n",
    "for i in range(len(BugFile)):\n",
    "    if BugFile[i] == ThisWord:\n",
    "        ftd = ftd + 1\n",
    "        \n",
    "print(\"ftd:\", ftd)\n",
    "\n",
    "# #docs, total number of documents; \n",
    "NumDocs = len(BugFiles) + len(CodeCorpuses);\n",
    "print(\"#docs:\", NumDocs)\n",
    "\n",
    "# count nt, the number of docuement that contains t;\n",
    "# count ntBug, the number of document that contains t in bug files; \n",
    "ntBug = 0 \n",
    "for i in range(len(BugFiles)):\n",
    "    with open(BugFiles[i]) as TextFile:\n",
    "        ThisBugFile = TextFile.read().split(' ') \n",
    "    \n",
    "    flag = False    \n",
    "    \n",
    "    for j in range(len(ThisBugFile)):\n",
    "        if ThisWord == ThisBugFile[j]:\n",
    "            flag = True\n",
    "            break\n",
    "    \n",
    "    if flag == True:\n",
    "        ntBug = ntBug + 1\n",
    "    \n",
    "#print(\"ntBug:\", ntBug)\n",
    "\n",
    "# count ntCode, the number of document that contains t in code files; \n",
    "ntCode = 0\n",
    "for i in range(len(CodeCorpuses)):\n",
    "    \n",
    "    ThisCodeFile = CodeCorpuses[i]\n",
    "    \n",
    "    flag = False\n",
    "    \n",
    "    for j in range(len(ThisCodeFile.CorpusMembers)):\n",
    "        if ThisWord == ThisCodeFile.CorpusMembers[j].ElementName:\n",
    "            flag = True\n",
    "            break\n",
    "            \n",
    "    if flag == True:\n",
    "            ntCode = ntCode + 1\n",
    "    \n",
    "#print(\"ntCode:\", ntCode)\n",
    "\n",
    "nt = ntBug + ntCode\n",
    "print(\"nt:\", nt)\n",
    "\n",
    "w = (math.log(ftd)+1) * math.log(NumDocs/nt)\n",
    "print(w)"
   ]
  },
  {
   "cell_type": "code",
   "execution_count": null,
   "metadata": {},
   "outputs": [],
   "source": []
  },
  {
   "cell_type": "code",
   "execution_count": null,
   "metadata": {},
   "outputs": [],
   "source": []
  },
  {
   "cell_type": "code",
   "execution_count": null,
   "metadata": {},
   "outputs": [],
   "source": []
  },
  {
   "cell_type": "code",
   "execution_count": null,
   "metadata": {},
   "outputs": [],
   "source": []
  },
  {
   "cell_type": "code",
   "execution_count": null,
   "metadata": {},
   "outputs": [],
   "source": []
  },
  {
   "cell_type": "code",
   "execution_count": null,
   "metadata": {},
   "outputs": [],
   "source": []
  },
  {
   "cell_type": "code",
   "execution_count": null,
   "metadata": {},
   "outputs": [],
   "source": []
  },
  {
   "cell_type": "code",
   "execution_count": null,
   "metadata": {},
   "outputs": [],
   "source": []
  },
  {
   "cell_type": "code",
   "execution_count": null,
   "metadata": {},
   "outputs": [],
   "source": []
  },
  {
   "cell_type": "code",
   "execution_count": null,
   "metadata": {},
   "outputs": [],
   "source": []
  },
  {
   "cell_type": "code",
   "execution_count": null,
   "metadata": {},
   "outputs": [],
   "source": []
  },
  {
   "cell_type": "code",
   "execution_count": null,
   "metadata": {},
   "outputs": [],
   "source": []
  },
  {
   "cell_type": "code",
   "execution_count": null,
   "metadata": {},
   "outputs": [],
   "source": []
  },
  {
   "cell_type": "code",
   "execution_count": null,
   "metadata": {},
   "outputs": [],
   "source": []
  },
  {
   "cell_type": "code",
   "execution_count": null,
   "metadata": {},
   "outputs": [],
   "source": []
  }
 ],
 "metadata": {
  "kernelspec": {
   "display_name": "Python 3",
   "language": "python",
   "name": "python3"
  },
  "language_info": {
   "codemirror_mode": {
    "name": "ipython",
    "version": 3
   },
   "file_extension": ".py",
   "mimetype": "text/x-python",
   "name": "python",
   "nbconvert_exporter": "python",
   "pygments_lexer": "ipython3",
   "version": "3.7.3"
  }
 },
 "nbformat": 4,
 "nbformat_minor": 2
}
