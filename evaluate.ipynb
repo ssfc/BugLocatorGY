{
 "cells": [
  {
   "cell_type": "code",
   "execution_count": 28,
   "metadata": {},
   "outputs": [
    {
     "name": "stdout",
     "output_type": "stream",
     "text": [
      "['slowdown', '3', '1', 'rc1', 'n20050602', 'due', 'imagelist', 'build', 'n20050602', 'ui', 'perform', 'test', 'slower', 'rc1', 'n20050602', 'window', 'run', 'openclosewindowtest', 'n20050602', 'n20050602', \"rc1'\", 'swt', 'number', 'win2k', 'n20050602', 'testopenclosewindow', 'org', 'eclips', 'debug', 'ui', 'debugperspect', 'elaps', 'process', '844', 'ms', 'elaps', 'process', '828', 'ms', 'elaps', 'process', '854', 'ms', 'averag', '842', 'n20050602', 'swt', 'rc1', 'i20050527', '1300', 'testopenclosewindow', 'org', 'eclips', 'debug', 'ui', 'debugperspect', 'elaps', 'process', '751', 'ms', 'elaps', 'process', '757', 'ms', 'elaps', 'process', '731', 'ms', 'averag', '746m', 'increas', '96', '746', '13', 'slower', 'includ', 'time', 'debug', 'perspect', 'perspect', 'show', 'correl', 'numer', 'icon', 'menu', 'toolbar', 'debug', 'perspect', 'icon', 'suspici', 'imagelist', 'os', 'ilc', 'mirror', 'unwind', 'singl', 'make']\n"
     ]
    }
   ],
   "source": [
    "import numpy as np\n",
    "\n",
    "## ----------------------------------- read word list from Wordlist.txt --------------------------------------------\n",
    "with open(\"Wordlist.txt\") as TextFile:\n",
    "    WordList = [line.split() for line in TextFile]\n",
    "    \n",
    "for i in range(len(WordList)):\n",
    "    WordList[i].append(0)\n",
    "    \n",
    "## ----------------------------------- read bug file 100040.txt ------------------------------------------------    \n",
    "with open(\"C:\\\\Users\\\\take_\\\\OneDrive\\\\liming\\\\where\\\\BugLocator\\\\tmp\\\\BugCorpus\\\\100040.txt\") as TextFile:\n",
    "    BugFile = TextFile.read().split(' ')    \n",
    "\n",
    "print(BugFile)"
   ]
  },
  {
   "cell_type": "code",
   "execution_count": null,
   "metadata": {},
   "outputs": [],
   "source": []
  }
 ],
 "metadata": {
  "kernelspec": {
   "display_name": "Python 3",
   "language": "python",
   "name": "python3"
  },
  "language_info": {
   "codemirror_mode": {
    "name": "ipython",
    "version": 3
   },
   "file_extension": ".py",
   "mimetype": "text/x-python",
   "name": "python",
   "nbconvert_exporter": "python",
   "pygments_lexer": "ipython3",
   "version": "3.7.3"
  }
 },
 "nbformat": 4,
 "nbformat_minor": 2
}
