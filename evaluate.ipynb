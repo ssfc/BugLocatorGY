{
 "cells": [
  {
   "cell_type": "code",
   "execution_count": 204,
   "metadata": {},
   "outputs": [],
   "source": [
    "def generate_OneBugCorpus(FilePath, WordList):\n",
    "    \n",
    "    for i in range(len(WordList)):\n",
    "        WordList[i].WordFrequency = 0\n",
    "    \n",
    "    with open(FilePath) as TextFile:\n",
    "        BugFile = TextFile.read().split(' ')    \n",
    "\n",
    "\n",
    "    ThisBugCorpus = [] # this file delete word that is not in the word list; \n",
    "\n",
    "    for i in range(len(BugFile)):\n",
    "        flag = False\n",
    "        for j in range(len(WordList)):\n",
    "            if BugFile[i] == WordList[j].WordName:\n",
    "                flag = True\n",
    "\n",
    "                if WordList[j].WordFrequency == 0:\n",
    "                    ThisBugCorpus.append(BugFile[i])\n",
    "\n",
    "                WordList[j].WordFrequency = WordList[j].WordFrequency + 1\n",
    "                break        \n",
    "       \n",
    "    \n",
    "    \n",
    "    return ThisBugCorpus"
   ]
  },
  {
   "cell_type": "code",
   "execution_count": 205,
   "metadata": {},
   "outputs": [],
   "source": [
    "def generate_OneCodeCorpus(ThisCodeFile, WordList):\n",
    "    \n",
    "    for i in range(len(WordList)):\n",
    "        WordList[i].WordFrequency = 0\n",
    "    \n",
    "    ThisCodeCorpus = []\n",
    "    \n",
    "    for i in range(len(ThisCodeFile)):\n",
    "        flag = False\n",
    "        for j in range(len(WordList)):\n",
    "            if ThisCodeFile[i] == WordList[j].WordName:\n",
    "                flag = True\n",
    "                \n",
    "                if WordList[j].WordFrequency == 0:\n",
    "                    ThisCodeCorpus.append(ThisCodeFile[i])\n",
    "                    \n",
    "                WordList[j].WordFrequency = WordList[j].WordFrequency + 1\n",
    "                break\n",
    "    \n",
    "    \n",
    "    return ThisCodeCorpus"
   ]
  },
  {
   "cell_type": "code",
   "execution_count": 206,
   "metadata": {},
   "outputs": [
    {
     "name": "stdout",
     "output_type": "stream",
     "text": [
      "98\n"
     ]
    }
   ],
   "source": [
    "# this process intends to save all file names in an array; \n",
    "\n",
    "import os\n",
    "\n",
    "path = 'C:\\\\Users\\\\take_\\\\OneDrive\\\\liming\\\\where\\\\BugLocator\\\\tmp\\\\BugCorpus\\\\'\n",
    "\n",
    "BugFiles = []\n",
    "# r=root, d=directories, f = bug files\n",
    "for r, d, f in os.walk(path):\n",
    "    for file in f:\n",
    "        if '.txt' in file:\n",
    "            BugFiles.append(os.path.join(r, file))\n",
    "\n",
    "print(len(BugFiles))"
   ]
  },
  {
   "cell_type": "code",
   "execution_count": 207,
   "metadata": {},
   "outputs": [
    {
     "name": "stdout",
     "output_type": "stream",
     "text": [
      "['C:\\\\Users\\\\take_\\\\OneDrive\\\\liming\\\\where\\\\BugLocator\\\\tmp\\\\BugCorpus\\\\100040.txt', 'due', 'imagelist', 'build', 'ui', 'perform', 'test', 'window', 'run', 'swt', 'number', 'eclips', 'debug', 'elaps', 'process', 'ms', 'averag', 'increas', 'includ', 'time', 'perspect', 'show', 'numer', 'icon', 'menu', 'toolbar', 'os', 'ilc', 'mirror', 'singl', 'make']\n",
      "['acc', 'contain', 'constant', 'us', 'defin', 'access', 'object', 'sinc', 'state', 'select', 'multiselect', 'focus', 'press', 'check', 'expand', 'collaps', 'hottrack', 'busi', 'readonli', 'invis', 'offscreen', 'sizeabl', 'link', 'role', 'client', 'area', 'xa', 'window', 'menubar', 'menu', 'xb', 'menuitem', 'xc', 'separ', 'tooltip', 'xd', 'scrollbar', 'dialog', 'label', 'pushbutton', 'checkbutton', 'radiobutton', 'combobox', 'text', 'toolbar', 'list', 'listitem', 'tabl', 'tablecel', 'tablecolumnhead', 'deprec', 'tablecolumn', 'tablerowhead', 'tree', 'treeitem', 'tabfold', 'tabitem', 'progressbar', 'slider', 'childid', 'multipl', 'insert', 'delet']\n"
     ]
    }
   ],
   "source": [
    "# class word defines a word in dictionary; \n",
    "class Word(object):\n",
    "    def __init__(self, WordName=None, WordIndex=None, WordFrequency=None):\n",
    "        self.WordName = WordName\n",
    "        self.WordIndex = WordIndex\n",
    "        self.WordFrequency = WordFrequency\n",
    "\n",
    "\n",
    "\n",
    "\n",
    "## ----------------------------------- read word list from Wordlist.txt --------------------------------------------\n",
    "with open(\"WordList.txt\") as TextFile:\n",
    "    WordListTwo = [line.split() for line in TextFile]\n",
    "\n",
    "WordList = []\n",
    "    \n",
    "for i in range(len(WordListTwo)):\n",
    "    WordListTwo[i].append(0) # this is the 3rd column, indicating frequency of this word in this document;\n",
    "    WordListTwo[i].append(0) # this is the 4th column, indicating the id of this word; \n",
    "    \n",
    "    WordList.append(Word(WordListTwo[i][0], WordListTwo[i][1], 0))\n",
    "    \n",
    "# test whether WordList is correct or not;     \n",
    "#print(WordList[0].WordName)\n",
    "#print(WordList[1].WordName)\n",
    "    \n",
    "    \n",
    "## ----------------------------------- read all bug files ------------------------------------------------    \n",
    "#ThisBugCorpus = generate_OneBugCorpus(BugFiles[0], WordList)\n",
    "#print(len(ThisBugCorpus))\n",
    "#print(ThisBugCorpus)\n",
    "\n",
    "BugCorpuses = []\n",
    "for i in range(len(BugFiles)):\n",
    "    ThisBugCorpus = generate_OneBugCorpus(BugFiles[i], WordList)\n",
    "    ThisBugCorpus.insert(0, BugFiles[i])\n",
    "    BugCorpuses.append(ThisBugCorpus)\n",
    "\n",
    "# test result of all bug corpuses;     \n",
    "print(BugCorpuses[0])\n",
    "#for i in range(5):\n",
    "#    print(BugCorpuses[i])\n",
    "\n",
    "## ----------------------------------- read all code files ------------------------------------------------\n",
    "with open(\"CodeCorpus.txt\") as TextFile:\n",
    "    CodeList = TextFile.read().split()   \n",
    "\n",
    "#print(len(CodeList))\n",
    "CodeFiles = []\n",
    "ThisCodeFile = []\n",
    "\n",
    "for i in range(len(CodeList)):\n",
    "    if CodeList[i][-5:] == \".java\":        \n",
    "        CodeFiles.append(ThisCodeFile)\n",
    "        ThisCodeFile = []\n",
    "        ThisCodeFile.append(CodeList[i])\n",
    "    else:\n",
    "        ThisCodeFile.append(CodeList[i])\n",
    "\n",
    "CodeFiles.pop(0) # delete the first element;         \n",
    "\n",
    "#print(len(CodeFiles))\n",
    "#print(CodeFiles[0])\n",
    "\n",
    "#ThisCodeCorpus = generate_OneCodeCorpus(CodeFiles[0], WordList)\n",
    "#print(ThisCodeCorpus)\n",
    "\n",
    "CodeCorpuses = []\n",
    "for i in range(len(CodeFiles)):\n",
    "    ThisCodeCorpus = generate_OneCodeCorpus(CodeFiles[i], WordList)\n",
    "    CodeCorpuses.append(ThisCodeCorpus)\n",
    "\n",
    "# test all code corpuses generated; \n",
    "print(CodeCorpuses[0])"
   ]
  },
  {
   "cell_type": "code",
   "execution_count": 208,
   "metadata": {},
   "outputs": [
    {
     "name": "stdout",
     "output_type": "stream",
     "text": [
      "ftd: 1\n",
      "#docs: 581\n",
      "nt: 19\n",
      "3.4203117776854706\n"
     ]
    }
   ],
   "source": [
    "import math\n",
    "\n",
    "with open(BugFiles[0]) as TextFile:\n",
    "    BugFile = TextFile.read().split(' ')    \n",
    "    \n",
    "#print(BugFile)\n",
    "\n",
    "ThisWord = \"build\"\n",
    "# count ftd, the frequency of term t in document d;\n",
    "ftd = 0\n",
    "for i in range(len(BugFile)):\n",
    "    if BugFile[i] == ThisWord:\n",
    "        ftd = ftd + 1\n",
    "        \n",
    "print(\"ftd:\", ftd)\n",
    "\n",
    "# #docs, total number of documents; \n",
    "NumDocs = len(BugFiles) + len(CodeCorpuses);\n",
    "print(\"#docs:\", NumDocs)\n",
    "\n",
    "# count nt, the number of docuement that contains t;\n",
    "# count ntBug, the number of document that contains t in bug files; \n",
    "ntBug = 0 \n",
    "for i in range(len(BugFiles)):\n",
    "    with open(BugFiles[i]) as TextFile:\n",
    "        ThisBugFile = TextFile.read().split(' ') \n",
    "    \n",
    "    flag = False    \n",
    "    \n",
    "    for j in range(len(ThisBugFile)):\n",
    "        if ThisWord == ThisBugFile[j]:\n",
    "            flag = True\n",
    "            break\n",
    "    \n",
    "    if flag == True:\n",
    "        ntBug = ntBug + 1\n",
    "    \n",
    "#print(\"ntBug:\", ntBug)\n",
    "\n",
    "# count ntCode, the number of document that contains t in code files; \n",
    "ntCode = 0\n",
    "for i in range(len(CodeCorpuses)):\n",
    "    \n",
    "    ThisCodeFile = CodeCorpuses[i]\n",
    "    \n",
    "    flag = False\n",
    "    \n",
    "    for j in range(len(ThisCodeFile)):\n",
    "        if ThisWord == ThisCodeFile[j]:\n",
    "            flag = True\n",
    "            break\n",
    "            \n",
    "    if flag == True:\n",
    "            ntCode = ntCode + 1\n",
    "    \n",
    "#print(\"ntCode:\", ntCode)\n",
    "\n",
    "nt = ntBug + ntCode\n",
    "print(\"nt:\", nt)\n",
    "\n",
    "w = (math.log(ftd)+1) * math.log(NumDocs/nt)\n",
    "print(w)"
   ]
  },
  {
   "cell_type": "code",
   "execution_count": null,
   "metadata": {},
   "outputs": [],
   "source": []
  },
  {
   "cell_type": "code",
   "execution_count": null,
   "metadata": {},
   "outputs": [],
   "source": []
  },
  {
   "cell_type": "code",
   "execution_count": null,
   "metadata": {},
   "outputs": [],
   "source": []
  },
  {
   "cell_type": "code",
   "execution_count": null,
   "metadata": {},
   "outputs": [],
   "source": []
  },
  {
   "cell_type": "code",
   "execution_count": null,
   "metadata": {},
   "outputs": [],
   "source": []
  },
  {
   "cell_type": "code",
   "execution_count": null,
   "metadata": {},
   "outputs": [],
   "source": []
  },
  {
   "cell_type": "code",
   "execution_count": null,
   "metadata": {},
   "outputs": [],
   "source": []
  },
  {
   "cell_type": "code",
   "execution_count": null,
   "metadata": {},
   "outputs": [],
   "source": []
  },
  {
   "cell_type": "code",
   "execution_count": null,
   "metadata": {},
   "outputs": [],
   "source": []
  },
  {
   "cell_type": "code",
   "execution_count": null,
   "metadata": {},
   "outputs": [],
   "source": []
  },
  {
   "cell_type": "code",
   "execution_count": null,
   "metadata": {},
   "outputs": [],
   "source": []
  },
  {
   "cell_type": "code",
   "execution_count": null,
   "metadata": {},
   "outputs": [],
   "source": []
  },
  {
   "cell_type": "code",
   "execution_count": 209,
   "metadata": {},
   "outputs": [
    {
     "name": "stdout",
     "output_type": "stream",
     "text": [
      "Hello\n"
     ]
    }
   ],
   "source": [
    "# class word defines a word in dictionary; \n",
    "class Word(object):\n",
    "    def __init__(self, WordName=None, WordIndex=None, WordFrequency=None):\n",
    "        self.WordName = WordName\n",
    "        self.WordIndex = WordIndex\n",
    "        self.WordFrequency = WordFrequency\n",
    "        \n",
    "        \n",
    "        \n",
    "WordList = []\n",
    "WordList.append(Word(\"build\", 1, 0))\n",
    "WordList.append(Word(\"window\", 2, 0))\n",
    "\n",
    "WordList[0].WordName = \"Hello\"\n",
    "print(WordList[0].WordName)"
   ]
  },
  {
   "cell_type": "code",
   "execution_count": null,
   "metadata": {},
   "outputs": [],
   "source": []
  },
  {
   "cell_type": "code",
   "execution_count": null,
   "metadata": {},
   "outputs": [],
   "source": []
  }
 ],
 "metadata": {
  "kernelspec": {
   "display_name": "Python 3",
   "language": "python",
   "name": "python3"
  },
  "language_info": {
   "codemirror_mode": {
    "name": "ipython",
    "version": 3
   },
   "file_extension": ".py",
   "mimetype": "text/x-python",
   "name": "python",
   "nbconvert_exporter": "python",
   "pygments_lexer": "ipython3",
   "version": "3.7.3"
  }
 },
 "nbformat": 4,
 "nbformat_minor": 2
}
